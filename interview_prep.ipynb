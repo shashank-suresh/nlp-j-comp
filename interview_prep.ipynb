{
 "cells": [
  {
   "cell_type": "markdown",
   "metadata": {},
   "source": [
    "## Importing Modules"
   ]
  },
  {
   "cell_type": "code",
   "execution_count": 1,
   "metadata": {},
   "outputs": [],
   "source": [
    "import pandas as pd\n",
    "import en_core_web_sm\n",
    "from spacy.matcher import PhraseMatcher"
   ]
  },
  {
   "cell_type": "code",
   "execution_count": 2,
   "metadata": {},
   "outputs": [],
   "source": [
    "nlp = en_core_web_sm.load()"
   ]
  },
  {
   "cell_type": "code",
   "execution_count": 3,
   "metadata": {},
   "outputs": [
    {
     "name": "stdout",
     "output_type": "stream",
     "text": [
      "1\n",
      "Abhinav Sreekumar\n",
      "+919894373905 |abhinavsreekumarofficial@gmail.com |https://www.linkedin.com/in/abhinav-sreekumar |\n",
      "https://github.com/ASKOFFICIAL\n",
      "Education\n",
      "Vellore Institute of Technology Vellore, Tamil Nadu\n",
      "Bachelor of Technology in Computer Science. CGPA: 8.34 2020 – ongoing\n",
      "St. Jude’s Public School and Junior College Kotagiri, Tamil Nadu\n",
      "Indian School Certificate 12th Grade. Percentage: 94.5 – 2020\n",
      "Riverside Public School Kotagiri, Tamil Nadu\n",
      "Indian Certificate of Secondary Education 10th Grade. Percentage: 92.8 – 2018\n",
      "Experience\n",
      "Full Stack Machine Learning Intern February 2022 – April 2023\n",
      "Systematrix Inc. Georgia, Atlanta\n",
      "•Trained extensively with Neo4J a graph database for Financial Data to detect fraud and helped maintain and\n",
      "modify the UI used by fraud investigators\n",
      "•Added Multiple features to the front end D3JS object used to visualise the data such as adding softlinks between\n",
      "nodes disconnected in the database\n",
      "•Developed a feature which queries MongoDB with all the nodes opened by the investigator and finds all malicious\n",
      "paths in which it is involved as well as storing the paths themselves\n",
      "•Assisted in tuning hyper parameters of queries to optimally find malicious paths in database\n",
      "•Developed functions to determine local graph features to add to the fraud detection model such as degree centrality,\n",
      "Page Rank etc.\n",
      "•Developed and maintained primarily the back end in Django of an app used to confirm a persons identity using face\n",
      "recognition. Modified the server to an nginx server with gunicorn to support SSL for HTTPS requests. Also helped\n",
      "in frontend changes in Flutter\n",
      "Projects\n",
      "Harmony |ReactJS, Node, Express, Python, Flask, Mongoose, Spotify API\n",
      "•Scraped 10000 songs each from 42 genres to generate a dataset on Spotify’s prebuilt features\n",
      "•Built a Novel Machine Learning Model to generate a playlist based on the start mood and end mood chosen by the\n",
      "user\n",
      "•Implemented Spotify OAuth to get custom user data to show their history and to play the playlist on the Harmony\n",
      "Website\n",
      "•Developed a full-stack web application using React, Node, Express and Mongo for the user to interact\n",
      "AntiChess AI Bot |Python, python-chess\n",
      "•Developed an AI bot capable of playing Anti-Chess a variant of chess against a user\n",
      "•Implemented the MinMax Algorithm, Alpha Beta Pruning and Reinforcement training to calculate moves\n",
      "•Implemented continuous delivery using TravisCI to build the plugin upon new a release\n",
      "•tuned features enough to make it capable of beating average players with instantaneous response time\n",
      "Analysis and Visualisation of Indian Crime Data |Python, plotly\n",
      "•Explored Indian Crime Data to discover features worth visualising\n",
      "•Plotted multiple features of Interest with various graphs such as bubble graphs, Choropleth maps etc.\n",
      "•Were able to successfully find and convey correlations and other features of interest\n",
      "•Implemented a simple dashboard for users to navigate through the graphs with ease\n",
      "Technical Skills\n",
      "Languages :Python, C/C++, SQL , JavaScript, HTML/CSS, Cypher, Java, Basic Flutter\n",
      "Frameworks : Django, Bootstrap, Material-UI, Plotly\n",
      "Developer Tools : Git, Mongoose,Visual Studio Code, Apache Guacamole, Jupyter\n",
      "Libraries : pandas, NumPy, Matplotlib, python chess\n"
     ]
    }
   ],
   "source": [
    "import PyPDF2\n",
    "pdfFileObj = open('resume.pdf', 'rb')\n",
    "pdfReader = PyPDF2.PdfReader(pdfFileObj)\n",
    "print(len(pdfReader.pages))\n",
    "pageObj = pdfReader.pages[0]\n",
    "print(pageObj.extract_text ())\n",
    "text=pageObj.extract_text ()\n",
    "pdfFileObj.close()"
   ]
  },
  {
   "attachments": {},
   "cell_type": "markdown",
   "metadata": {},
   "source": [
    "## Reading in Keywords"
   ]
  },
  {
   "cell_type": "code",
   "execution_count": 4,
   "metadata": {},
   "outputs": [
    {
     "data": {
      "text/html": [
       "<div>\n",
       "<style scoped>\n",
       "    .dataframe tbody tr th:only-of-type {\n",
       "        vertical-align: middle;\n",
       "    }\n",
       "\n",
       "    .dataframe tbody tr th {\n",
       "        vertical-align: top;\n",
       "    }\n",
       "\n",
       "    .dataframe thead th {\n",
       "        text-align: right;\n",
       "    }\n",
       "</style>\n",
       "<table border=\"1\" class=\"dataframe\">\n",
       "  <thead>\n",
       "    <tr style=\"text-align: right;\">\n",
       "      <th></th>\n",
       "      <th>Statistics</th>\n",
       "      <th>Machine Learning</th>\n",
       "      <th>Deep Learning</th>\n",
       "      <th>R Language</th>\n",
       "      <th>Python Language</th>\n",
       "      <th>NLP</th>\n",
       "      <th>Data Engineering</th>\n",
       "    </tr>\n",
       "  </thead>\n",
       "  <tbody>\n",
       "    <tr>\n",
       "      <th>0</th>\n",
       "      <td>statistical models</td>\n",
       "      <td>linear regression</td>\n",
       "      <td>neural network</td>\n",
       "      <td>r</td>\n",
       "      <td>python</td>\n",
       "      <td>nlp</td>\n",
       "      <td>laws</td>\n",
       "    </tr>\n",
       "    <tr>\n",
       "      <th>1</th>\n",
       "      <td>statistical modeling</td>\n",
       "      <td>logistic regression</td>\n",
       "      <td>keras</td>\n",
       "      <td>ggplot</td>\n",
       "      <td>flask</td>\n",
       "      <td>natural language processing</td>\n",
       "      <td>ec2</td>\n",
       "    </tr>\n",
       "    <tr>\n",
       "      <th>2</th>\n",
       "      <td>probability</td>\n",
       "      <td>K means</td>\n",
       "      <td>theano</td>\n",
       "      <td>shiny</td>\n",
       "      <td>django</td>\n",
       "      <td>topic modeling</td>\n",
       "      <td>amazon redshift</td>\n",
       "    </tr>\n",
       "    <tr>\n",
       "      <th>3</th>\n",
       "      <td>normal distribution</td>\n",
       "      <td>random forest</td>\n",
       "      <td>face detection</td>\n",
       "      <td>cran</td>\n",
       "      <td>pandas</td>\n",
       "      <td>Ida</td>\n",
       "      <td>s3</td>\n",
       "    </tr>\n",
       "    <tr>\n",
       "      <th>4</th>\n",
       "      <td>poisson distribution</td>\n",
       "      <td>xgboost</td>\n",
       "      <td>neural networks</td>\n",
       "      <td>dplyr</td>\n",
       "      <td>numpy</td>\n",
       "      <td>named entity recognition</td>\n",
       "      <td>docker</td>\n",
       "    </tr>\n",
       "  </tbody>\n",
       "</table>\n",
       "</div>"
      ],
      "text/plain": [
       "             Statistics     Machine Learning    Deep Learning R Language  \\\n",
       "0    statistical models    linear regression   neural network          r   \n",
       "1  statistical modeling  logistic regression            keras     ggplot   \n",
       "2           probability              K means           theano      shiny   \n",
       "3   normal distribution        random forest   face detection       cran   \n",
       "4  poisson distribution              xgboost  neural networks      dplyr   \n",
       "\n",
       "  Python Language                          NLP Data Engineering  \n",
       "0          python                          nlp             laws  \n",
       "1           flask  natural language processing              ec2  \n",
       "2          django               topic modeling  amazon redshift  \n",
       "3          pandas                          Ida               s3  \n",
       "4           numpy     named entity recognition           docker  "
      ]
     },
     "execution_count": 4,
     "metadata": {},
     "output_type": "execute_result"
    }
   ],
   "source": [
    "keyword_dict = pd.read_csv('Skills_Keywords.csv')\n",
    "keyword_dict.head()"
   ]
  },
  {
   "attachments": {},
   "cell_type": "markdown",
   "metadata": {},
   "source": [
    "### Creating lists of tokenized keywords for each category for pattern matching"
   ]
  },
  {
   "cell_type": "code",
   "execution_count": 5,
   "metadata": {},
   "outputs": [],
   "source": [
    "stats_words = [nlp(text) for text in keyword_dict['Statistics'].dropna(axis = 0)]\n",
    "nlp_words = [nlp(text) for text in keyword_dict['NLP'].dropna(axis = 0)]\n",
    "ml_words = [nlp(text) for text in keyword_dict['Machine Learning'].dropna(axis = 0)]\n",
    "dl_words = [nlp(text) for text in keyword_dict['Deep Learning'].dropna(axis = 0)]\n",
    "r_words = [nlp(text) for text in keyword_dict['R Language'].dropna(axis = 0)]\n",
    "python_words = [nlp(text) for text in keyword_dict['Python Language'].dropna(axis = 0)]\n",
    "data_eng_words = [nlp(text) for text in keyword_dict['Data Engineering'].dropna(axis = 0)]"
   ]
  },
  {
   "cell_type": "code",
   "execution_count": 6,
   "metadata": {},
   "outputs": [
    {
     "data": {
      "text/plain": [
       "[statistical models,\n",
       " statistical modeling,\n",
       " probability,\n",
       " normal distribution,\n",
       " poisson distribution,\n",
       " survival models,\n",
       " hypothesis testing,\n",
       " bayesian inference,\n",
       " factor analysis,\n",
       " forecasting,\n",
       " markow chain,\n",
       " monte carlo]"
      ]
     },
     "execution_count": 6,
     "metadata": {},
     "output_type": "execute_result"
    }
   ],
   "source": [
    "stats_words"
   ]
  },
  {
   "attachments": {},
   "cell_type": "markdown",
   "metadata": {},
   "source": [
    "### Creating Pattern Matcher for Keyword Extraction"
   ]
  },
  {
   "cell_type": "code",
   "execution_count": 7,
   "metadata": {},
   "outputs": [],
   "source": [
    "matcher = PhraseMatcher(nlp.vocab)"
   ]
  },
  {
   "cell_type": "code",
   "execution_count": 8,
   "metadata": {},
   "outputs": [],
   "source": [
    "matcher.add('Stats', None, *stats_words)\n",
    "matcher.add('NLP', None, *nlp_words)\n",
    "matcher.add('ML', None, *ml_words)\n",
    "matcher.add('DL', None, *dl_words)\n",
    "matcher.add('R', None, *r_words)\n",
    "matcher.add('Python', None, *python_words)\n",
    "matcher.add('Data Engineering', None, *data_eng_words)"
   ]
  },
  {
   "attachments": {},
   "cell_type": "markdown",
   "metadata": {},
   "source": [
    "## Keyword Extraction"
   ]
  },
  {
   "cell_type": "code",
   "execution_count": 9,
   "metadata": {},
   "outputs": [
    {
     "name": "stdout",
     "output_type": "stream",
     "text": [
      "Abhinav Sreekumar\n",
      "+919894373905 |abhinavsreekumarofficial@gmail.com |https://www.linkedin.com/in/abhinav-sreekumar |\n",
      "https://github.com/ASKOFFICIAL\n",
      "Education\n",
      "Vellore Institute of Technology Vellore, Tamil Nadu\n",
      "Bachelor of Technology in Computer Science. CGPA: 8.34 2020 – ongoing\n",
      "St. Jude’s Public School and Junior College Kotagiri, Tamil Nadu\n",
      "Indian School Certificate 12th Grade. Percentage: 94.5 – 2020\n",
      "Riverside Public School Kotagiri, Tamil Nadu\n",
      "Indian Certificate of Secondary Education 10th Grade. Percentage: 92.8 – 2018\n",
      "Experience\n",
      "Full Stack Machine Learning Intern February 2022 – April 2023\n",
      "Systematrix Inc. Georgia, Atlanta\n",
      "•Trained extensively with Neo4J a graph database for Financial Data to detect fraud and helped maintain and\n",
      "modify the UI used by fraud investigators\n",
      "•Added Multiple features to the front end D3JS object used to visualise the data such as adding softlinks between\n",
      "nodes disconnected in the database\n",
      "•Developed a feature which queries MongoDB with all the nodes opened by the investigator and finds all malicious\n",
      "paths in which it is involved as well as storing the paths themselves\n",
      "•Assisted in tuning hyper parameters of queries to optimally find malicious paths in database\n",
      "•Developed functions to determine local graph features to add to the fraud detection model such as degree centrality,\n",
      "Page Rank etc.\n",
      "•Developed and maintained primarily the back end in Django of an app used to confirm a persons identity using face\n",
      "recognition. Modified the server to an nginx server with gunicorn to support SSL for HTTPS requests. Also helped\n",
      "in frontend changes in Flutter\n",
      "Projects\n",
      "Harmony |ReactJS, Node, Express, Python, Flask, Mongoose, Spotify API\n",
      "•Scraped 10000 songs each from 42 genres to generate a dataset on Spotify’s prebuilt features\n",
      "•Built a Novel Machine Learning Model to generate a playlist based on the start mood and end mood chosen by the\n",
      "user\n",
      "•Implemented Spotify OAuth to get custom user data to show their history and to play the playlist on the Harmony\n",
      "Website\n",
      "•Developed a full-stack web application using React, Node, Express and Mongo for the user to interact\n",
      "AntiChess AI Bot |Python, python-chess\n",
      "•Developed an AI bot capable of playing Anti-Chess a variant of chess against a user\n",
      "•Implemented the MinMax Algorithm, Alpha Beta Pruning and Reinforcement training to calculate moves\n",
      "•Implemented continuous delivery using TravisCI to build the plugin upon new a release\n",
      "•tuned features enough to make it capable of beating average players with instantaneous response time\n",
      "Analysis and Visualisation of Indian Crime Data |Python, plotly\n",
      "•Explored Indian Crime Data to discover features worth visualising\n",
      "•Plotted multiple features of Interest with various graphs such as bubble graphs, Choropleth maps etc.\n",
      "•Were able to successfully find and convey correlations and other features of interest\n",
      "•Implemented a simple dashboard for users to navigate through the graphs with ease\n",
      "Technical Skills\n",
      "Languages :Python, C/C++, SQL , JavaScript, HTML/CSS, Cypher, Java, Basic Flutter\n",
      "Frameworks : Django, Bootstrap, Material-UI, Plotly\n",
      "Developer Tools : Git, Mongoose,Visual Studio Code, Apache Guacamole, Jupyter\n",
      "Libraries : pandas, NumPy, Matplotlib, python chess\n"
     ]
    }
   ],
   "source": [
    "d = {}\n",
    "doc = nlp(text)\n",
    "print(doc)\n",
    "# Find matches in the doc\n",
    "matches = matcher(doc)\n",
    "\n",
    "# For each of the matches\n",
    "idx=0\n",
    "for match_id, start, end in matches:\n",
    "    # Get the general word and the matched phrase\n",
    "    gen_word = nlp.vocab.strings[match_id]\n",
    "    match = doc[start:end]\n",
    "\n",
    "    # Append all the keywords specific to a resume ID\n",
    "    d.setdefault(gen_word, []).append(match.text)\n",
    "    idx+=1"
   ]
  },
  {
   "cell_type": "code",
   "execution_count": 10,
   "metadata": {},
   "outputs": [
    {
     "data": {
      "text/plain": [
       "{'Python': ['python', 'pandas', 'python']}"
      ]
     },
     "execution_count": 10,
     "metadata": {},
     "output_type": "execute_result"
    }
   ],
   "source": [
    "d"
   ]
  },
  {
   "cell_type": "code",
   "execution_count": 17,
   "metadata": {},
   "outputs": [],
   "source": [
    "from question.pipelines import pipeline\n",
    "nlp = pipeline(\"multitask-qa-qg\", model=\"valhalla/t5-base-qa-qg-hl\")"
   ]
  },
  {
   "cell_type": "code",
   "execution_count": 18,
   "metadata": {},
   "outputs": [],
   "source": [
    "texts={\"Python\":\"\"\"Python is a high-level, interpreted programming language that was first released in 1991. It has a simple syntax and is easy to learn, which makes it a popular choice for beginners. Python is used for a wide range of tasks, from web development and data analysis to artificial intelligence and scientific computing. \\\n",
    "One of the main features of Python is its extensive standard library, which includes modules for working with regular expressions, network protocols, GUI development, and more. Python also has a large community of developers who have created many third-party libraries and tools for working with specific tasks or domains. \\\n",
    "Python supports multiple programming paradigms, including procedural, object-oriented, and functional programming. It also has a dynamic type system and automatic memory management, which makes it easy to write and debug code. \\\n",
    "Python can be used on a variety of platforms, including Windows, macOS, and Linux. There are several popular integrated development environments (IDEs) available for Python, including PyCharm, Visual Studio Code, and Spyder. \\\n",
    "Python is often used in scientific computing and data analysis, thanks to its support for libraries like NumPy, Pandas, and Matplotlib. It's also commonly used in web development, with popular frameworks like Django and Flask. \\\n",
    "Overall, Python is a versatile and powerful programming language that is widely used in industry, academia, and research.\"\"\"}"
   ]
  },
  {
   "cell_type": "code",
   "execution_count": 19,
   "metadata": {},
   "outputs": [
    {
     "name": "stdout",
     "output_type": "stream",
     "text": [
      "1991 \"Python is a high-level, interpreted programming language that was first released in 1991.\n",
      "simple syntax It has a simple syntax and is easy to learn, which makes it a popular choice for beginners.\n",
      "artificial intelligence and scientific computing Python is used for a wide range of tasks, from web development and data analysis to artificial intelligence and scientific computing.\n",
      "its extensive standard library One of the main features of Python is its extensive standard library, which includes modules for working with regular expressions, network protocols, GUI development, and more.\n",
      "developers Python also has a large community of developers who have created many third-party libraries and tools for working with specific tasks or domains.\n",
      "multiple programming paradigms Python supports multiple programming paradigms, including procedural, object-oriented, and functional programming.\n",
      "automatic memory management It also has a dynamic type system and automatic memory management, which makes it easy to write and debug code.\n",
      "Windows, macOS, and Linux Python can be used on a variety of platforms, including Windows, macOS, and Linux.\n",
      "PyCharm, Visual Studio Code, and Spyder There are several popular integrated development environments (IDEs) available for Python, including PyCharm, Visual Studio Code, and Spyder.\n",
      "NumPy, Pandas, and Matplotlib Python is often used in scientific computing and data analysis, thanks to its support for libraries like NumPy, Pandas, and Matplotlib.\n",
      "Django and Flask It's also commonly used in web development, with popular frameworks like Django and Flask.\n",
      "industry, academia, and research Overall, Python is a versatile and powerful programming language that is widely used in industry, academia, and research.\n"
     ]
    },
    {
     "data": {
      "text/plain": [
       "[{'answer': '1991', 'question': 'When was Python first released?'},\n",
       " {'answer': 'simple syntax',\n",
       "  'question': 'What does Python have that makes it a popular choice for beginners?'},\n",
       " {'answer': 'artificial intelligence and scientific computing',\n",
       "  'question': 'Python is used for a wide range of tasks, from web development and data analysis to what?'},\n",
       " {'answer': 'its extensive standard library',\n",
       "  'question': 'What is one of the main features of Python?'},\n",
       " {'answer': 'developers', 'question': 'Python has a large community of what?'},\n",
       " {'answer': 'multiple programming paradigms',\n",
       "  'question': 'Python supports what types of programming paradigms?'},\n",
       " {'answer': 'automatic memory management',\n",
       "  'question': 'What feature makes Python easy to write and debug code?'},\n",
       " {'answer': 'Windows, macOS, and Linux',\n",
       "  'question': 'What are some platforms that Python can be used on?'},\n",
       " {'answer': 'PyCharm, Visual Studio Code, and Spyder',\n",
       "  'question': 'What are some popular IDEs for Python?'},\n",
       " {'answer': 'NumPy, Pandas, and Matplotlib',\n",
       "  'question': 'Python is often used in scientific computing and data analysis, thanks to its support for what libraries?'},\n",
       " {'answer': 'Django and Flask',\n",
       "  'question': 'What are two popular frameworks that Python is commonly used in?'},\n",
       " {'answer': 'industry, academia, and research',\n",
       "  'question': 'In what industries is Python widely used?'}]"
      ]
     },
     "execution_count": 19,
     "metadata": {},
     "output_type": "execute_result"
    }
   ],
   "source": [
    "for i in d.keys():\n",
    "    nlp(texts[i])\n",
    "#Dataset Link Code Link Code Reference Tasks Link Errors Faced Research Papers"
   ]
  },
  {
   "cell_type": "code",
   "execution_count": 4,
   "metadata": {},
   "outputs": [
    {
     "name": "stdout",
     "output_type": "stream",
     "text": [
      "____________________THE DOCUMENT________________\n",
      "Abhinav Sreekumar\n",
      "+919894373905 |abhinavsreekumarofficial@gmail.com |https://www.linkedin.com/in/abhinav-sreekumar |\n",
      "https://github.com/ASKOFFICIAL\n",
      "Education\n",
      "Vellore Institute of Technology Vellore, Tamil Nadu\n",
      "Bachelor of Technology in Computer Science. CGPA: 8.34 2020 – ongoing\n",
      "St. Jude’s Public School and Junior College Kotagiri, Tamil Nadu\n",
      "Indian School Certificate 12th Grade. Percentage: 94.5 – 2020\n",
      "Riverside Public School Kotagiri, Tamil Nadu\n",
      "Indian Certificate of Secondary Education 10th Grade. Percentage: 92.8 – 2018\n",
      "Experience\n",
      "Full Stack Machine Learning Intern February 2022 – April 2023\n",
      "Systematrix Inc. Georgia, Atlanta\n",
      "•Trained extensively with Neo4J a graph database for Financial Data to detect fraud and helped maintain and\n",
      "modify the UI used by fraud investigators\n",
      "•Added Multiple features to the front end D3JS object used to visualise the data such as adding softlinks between\n",
      "nodes disconnected in the database\n",
      "•Developed a feature which queries MongoDB with all the nodes opened by the investigator and finds all malicious\n",
      "paths in which it is involved as well as storing the paths themselves\n",
      "•Assisted in tuning hyper parameters of queries to optimally find malicious paths in database\n",
      "•Developed functions to determine local graph features to add to the fraud detection model such as degree centrality,\n",
      "Page Rank etc.\n",
      "•Developed and maintained primarily the back end in Django of an app used to confirm a persons identity using face\n",
      "recognition. Modified the server to an nginx server with gunicorn to support SSL for HTTPS requests. Also helped\n",
      "in frontend changes in Flutter\n",
      "Projects\n",
      "Harmony |ReactJS, Node, Express, Python, Flask, Mongoose, Spotify API\n",
      "•Scraped 10000 songs each from 42 genres to generate a dataset on Spotify’s prebuilt features\n",
      "•Built a Novel Machine Learning Model to generate a playlist based on the start mood and end mood chosen by the\n",
      "user\n",
      "•Implemented Spotify OAuth to get custom user data to show their history and to play the playlist on the Harmony\n",
      "Website\n",
      "•Developed a full-stack web application using React, Node, Express and Mongo for the user to interact\n",
      "AntiChess AI Bot |Python, python-chess\n",
      "•Developed an AI bot capable of playing Anti-Chess a variant of chess against a user\n",
      "•Implemented the MinMax Algorithm, Alpha Beta Pruning and Reinforcement training to calculate moves\n",
      "•Implemented continuous delivery using TravisCI to build the plugin upon new a release\n",
      "•tuned features enough to make it capable of beating average players with instantaneous response time\n",
      "Analysis and Visualisation of Indian Crime Data |Python, plotly\n",
      "•Explored Indian Crime Data to discover features worth visualising\n",
      "•Plotted multiple features of Interest with various graphs such as bubble graphs, Choropleth maps etc.\n",
      "•Were able to successfully find and convey correlations and other features of interest\n",
      "•Implemented a simple dashboard for users to navigate through the graphs with ease\n",
      "Technical Skills\n",
      "Languages :Python, C/C++, SQL , JavaScript, HTML/CSS, Cypher, Java, Basic Flutter\n",
      "Frameworks : Django, Bootstrap, Material-UI, Plotly\n",
      "Developer Tools : Git, Mongoose,Visual Studio Code, Apache Guacamole, Jupyter\n",
      "Libraries : pandas, NumPy, Matplotlib, python chess\n",
      "_____MATCHES______\n",
      "{'Python': ['python', 'pandas', 'python']}\n",
      "Corpus used and questions generated\n",
      "1991 Python is a high-level, interpreted programming language that was first released in 1991.\n",
      "beginners It has a simple syntax and is easy to learn, which makes it a popular choice for beginners.\n",
      "artificial intelligence and scientific computing Python is used for a wide range of tasks, from web development and data analysis to artificial intelligence and scientific computing.\n",
      "its extensive standard library One of the main features of Python is its extensive standard library, which includes modules for working with regular expressions, network protocols, GUI development, and more.\n",
      "developers Python also has a large community of developers who have created many third-party libraries and tools for working with specific tasks or domains.\n",
      "multiple programming paradigms Python supports multiple programming paradigms, including procedural, object-oriented, and functional programming.\n",
      "automatic memory management It also has a dynamic type system and automatic memory management, which makes it easy to write and debug code.\n",
      "Windows, macOS, and Linux Python can be used on a variety of platforms, including Windows, macOS, and Linux.\n",
      "PyCharm, Visual Studio Code, and Spyder There are several popular integrated development environments (IDEs) available for Python, including PyCharm, Visual Studio Code, and Spyder.\n",
      "NumPy, Pandas, and Matplotlib Python is often used in scientific computing and data analysis, thanks to its support for libraries like NumPy, Pandas, and Matplotlib.\n",
      "Django and Flask It's also commonly used in web development, with popular frameworks like Django and Flask.\n",
      "industry, academia, and research Overall, Python is a versatile and powerful programming language that is widely used in industry, academia, and research.\n",
      "[{'answer': '1991', 'question': 'When was Python first released?'}, {'answer': 'beginners', 'question': 'What is Python a popular choice for?'}, {'answer': 'artificial intelligence and scientific computing', 'question': 'Python is used for a wide range of tasks, from web development and data analysis to what?'}, {'answer': 'its extensive standard library', 'question': 'What is one of the main features of Python?'}, {'answer': 'developers', 'question': 'Python has a large community of what?'}, {'answer': 'multiple programming paradigms', 'question': 'Python supports what types of programming paradigms?'}, {'answer': 'automatic memory management', 'question': 'What feature makes Python easy to write and debug code?'}, {'answer': 'Windows, macOS, and Linux', 'question': 'What are some platforms that Python can be used on?'}, {'answer': 'PyCharm, Visual Studio Code, and Spyder', 'question': 'What are some popular IDEs for Python?'}, {'answer': 'NumPy, Pandas, and Matplotlib', 'question': 'Python is often used in scientific computing and data analysis, thanks to its support for what libraries?'}, {'answer': 'Django and Flask', 'question': 'What are two popular frameworks that Python is commonly used in?'}, {'answer': 'industry, academia, and research', 'question': 'In what industries is Python widely used?'}]\n"
     ]
    }
   ],
   "source": [
    "from resume_question import generate\n",
    "generate('resume.pdf')"
   ]
  },
  {
   "cell_type": "code",
   "execution_count": null,
   "metadata": {},
   "outputs": [],
   "source": []
  }
 ],
 "metadata": {
  "kernelspec": {
   "display_name": "nlpenv",
   "language": "python",
   "name": "python3"
  },
  "language_info": {
   "codemirror_mode": {
    "name": "ipython",
    "version": 3
   },
   "file_extension": ".py",
   "mimetype": "text/x-python",
   "name": "python",
   "nbconvert_exporter": "python",
   "pygments_lexer": "ipython3",
   "version": "3.9.13"
  },
  "orig_nbformat": 4,
  "vscode": {
   "interpreter": {
    "hash": "bf219ed0de5990c7c5c4c3c35d28d40858b8ff64e5f64f3472cbcdc1175305f7"
   }
  }
 },
 "nbformat": 4,
 "nbformat_minor": 2
}
