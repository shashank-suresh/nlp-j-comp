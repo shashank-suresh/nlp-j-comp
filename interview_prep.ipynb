{
 "cells": [
  {
   "attachments": {},
   "cell_type": "markdown",
   "metadata": {},
   "source": [
    "## Importing Modules"
   ]
  },
  {
   "cell_type": "code",
   "execution_count": 2,
   "metadata": {},
   "outputs": [],
   "source": [
    "import pandas as pd\n",
    "import en_core_web_sm\n",
    "from spacy.matcher import PhraseMatcher"
   ]
  },
  {
   "cell_type": "code",
   "execution_count": 3,
   "metadata": {},
   "outputs": [],
   "source": [
    "nlp = en_core_web_sm.load()"
   ]
  },
  {
   "attachments": {},
   "cell_type": "markdown",
   "metadata": {},
   "source": [
    "## Reading in Resume data"
   ]
  },
  {
   "cell_type": "code",
   "execution_count": 4,
   "metadata": {},
   "outputs": [
    {
     "data": {
      "text/html": [
       "<div>\n",
       "<style scoped>\n",
       "    .dataframe tbody tr th:only-of-type {\n",
       "        vertical-align: middle;\n",
       "    }\n",
       "\n",
       "    .dataframe tbody tr th {\n",
       "        vertical-align: top;\n",
       "    }\n",
       "\n",
       "    .dataframe thead th {\n",
       "        text-align: right;\n",
       "    }\n",
       "</style>\n",
       "<table border=\"1\" class=\"dataframe\">\n",
       "  <thead>\n",
       "    <tr style=\"text-align: right;\">\n",
       "      <th></th>\n",
       "      <th>ID</th>\n",
       "      <th>Resume_str</th>\n",
       "      <th>Resume_html</th>\n",
       "      <th>Category</th>\n",
       "    </tr>\n",
       "  </thead>\n",
       "  <tbody>\n",
       "    <tr>\n",
       "      <th>0</th>\n",
       "      <td>16852973</td>\n",
       "      <td>HR ADMINISTRATOR/MARKETING ASSOCIATE\\...</td>\n",
       "      <td>&lt;div class=\"fontsize fontface vmargins hmargin...</td>\n",
       "      <td>HR</td>\n",
       "    </tr>\n",
       "    <tr>\n",
       "      <th>1</th>\n",
       "      <td>22323967</td>\n",
       "      <td>HR SPECIALIST, US HR OPERATIONS      ...</td>\n",
       "      <td>&lt;div class=\"fontsize fontface vmargins hmargin...</td>\n",
       "      <td>HR</td>\n",
       "    </tr>\n",
       "    <tr>\n",
       "      <th>2</th>\n",
       "      <td>33176873</td>\n",
       "      <td>HR DIRECTOR       Summary      Over 2...</td>\n",
       "      <td>&lt;div class=\"fontsize fontface vmargins hmargin...</td>\n",
       "      <td>HR</td>\n",
       "    </tr>\n",
       "    <tr>\n",
       "      <th>3</th>\n",
       "      <td>27018550</td>\n",
       "      <td>HR SPECIALIST       Summary    Dedica...</td>\n",
       "      <td>&lt;div class=\"fontsize fontface vmargins hmargin...</td>\n",
       "      <td>HR</td>\n",
       "    </tr>\n",
       "    <tr>\n",
       "      <th>4</th>\n",
       "      <td>17812897</td>\n",
       "      <td>HR MANAGER         Skill Highlights  ...</td>\n",
       "      <td>&lt;div class=\"fontsize fontface vmargins hmargin...</td>\n",
       "      <td>HR</td>\n",
       "    </tr>\n",
       "  </tbody>\n",
       "</table>\n",
       "</div>"
      ],
      "text/plain": [
       "         ID                                         Resume_str  \\\n",
       "0  16852973           HR ADMINISTRATOR/MARKETING ASSOCIATE\\...   \n",
       "1  22323967           HR SPECIALIST, US HR OPERATIONS      ...   \n",
       "2  33176873           HR DIRECTOR       Summary      Over 2...   \n",
       "3  27018550           HR SPECIALIST       Summary    Dedica...   \n",
       "4  17812897           HR MANAGER         Skill Highlights  ...   \n",
       "\n",
       "                                         Resume_html Category  \n",
       "0  <div class=\"fontsize fontface vmargins hmargin...       HR  \n",
       "1  <div class=\"fontsize fontface vmargins hmargin...       HR  \n",
       "2  <div class=\"fontsize fontface vmargins hmargin...       HR  \n",
       "3  <div class=\"fontsize fontface vmargins hmargin...       HR  \n",
       "4  <div class=\"fontsize fontface vmargins hmargin...       HR  "
      ]
     },
     "execution_count": 4,
     "metadata": {},
     "output_type": "execute_result"
    }
   ],
   "source": [
    "df = pd.read_csv('Resume.csv')\n",
    "df.head()"
   ]
  },
  {
   "cell_type": "code",
   "execution_count": 8,
   "metadata": {},
   "outputs": [],
   "source": [
    "df.drop('Resume_html', axis=1, inplace=True)"
   ]
  },
  {
   "cell_type": "code",
   "execution_count": 9,
   "metadata": {},
   "outputs": [
    {
     "data": {
      "text/plain": [
       "array(['HR', 'DESIGNER', 'INFORMATION-TECHNOLOGY', 'TEACHER', 'ADVOCATE',\n",
       "       'BUSINESS-DEVELOPMENT', 'HEALTHCARE', 'FITNESS', 'AGRICULTURE',\n",
       "       'BPO', 'SALES', 'CONSULTANT', 'DIGITAL-MEDIA', 'AUTOMOBILE',\n",
       "       'CHEF', 'FINANCE', 'APPAREL', 'ENGINEERING', 'ACCOUNTANT',\n",
       "       'CONSTRUCTION', 'PUBLIC-RELATIONS', 'BANKING', 'ARTS', 'AVIATION'],\n",
       "      dtype=object)"
      ]
     },
     "execution_count": 9,
     "metadata": {},
     "output_type": "execute_result"
    }
   ],
   "source": [
    "df['Category'].unique()"
   ]
  },
  {
   "attachments": {},
   "cell_type": "markdown",
   "metadata": {},
   "source": [
    "### Selecting only resumes in the IT field"
   ]
  },
  {
   "cell_type": "code",
   "execution_count": 10,
   "metadata": {},
   "outputs": [
    {
     "data": {
      "text/html": [
       "<div>\n",
       "<style scoped>\n",
       "    .dataframe tbody tr th:only-of-type {\n",
       "        vertical-align: middle;\n",
       "    }\n",
       "\n",
       "    .dataframe tbody tr th {\n",
       "        vertical-align: top;\n",
       "    }\n",
       "\n",
       "    .dataframe thead th {\n",
       "        text-align: right;\n",
       "    }\n",
       "</style>\n",
       "<table border=\"1\" class=\"dataframe\">\n",
       "  <thead>\n",
       "    <tr style=\"text-align: right;\">\n",
       "      <th></th>\n",
       "      <th>ID</th>\n",
       "      <th>Resume_str</th>\n",
       "      <th>Category</th>\n",
       "    </tr>\n",
       "  </thead>\n",
       "  <tbody>\n",
       "    <tr>\n",
       "      <th>217</th>\n",
       "      <td>36856210</td>\n",
       "      <td>INFORMATION TECHNOLOGY         Summar...</td>\n",
       "      <td>INFORMATION-TECHNOLOGY</td>\n",
       "    </tr>\n",
       "    <tr>\n",
       "      <th>218</th>\n",
       "      <td>21780877</td>\n",
       "      <td>INFORMATION TECHNOLOGY SPECIALIST\\tGS...</td>\n",
       "      <td>INFORMATION-TECHNOLOGY</td>\n",
       "    </tr>\n",
       "    <tr>\n",
       "      <th>219</th>\n",
       "      <td>33241454</td>\n",
       "      <td>INFORMATION TECHNOLOGY SUPERVISOR    ...</td>\n",
       "      <td>INFORMATION-TECHNOLOGY</td>\n",
       "    </tr>\n",
       "    <tr>\n",
       "      <th>220</th>\n",
       "      <td>25990239</td>\n",
       "      <td>INFORMATION TECHNOLOGY INSTRUCTOR    ...</td>\n",
       "      <td>INFORMATION-TECHNOLOGY</td>\n",
       "    </tr>\n",
       "    <tr>\n",
       "      <th>221</th>\n",
       "      <td>16899268</td>\n",
       "      <td>INFORMATION TECHNOLOGY MANAGER/ANALYS...</td>\n",
       "      <td>INFORMATION-TECHNOLOGY</td>\n",
       "    </tr>\n",
       "  </tbody>\n",
       "</table>\n",
       "</div>"
      ],
      "text/plain": [
       "           ID                                         Resume_str  \\\n",
       "217  36856210           INFORMATION TECHNOLOGY         Summar...   \n",
       "218  21780877           INFORMATION TECHNOLOGY SPECIALIST\\tGS...   \n",
       "219  33241454           INFORMATION TECHNOLOGY SUPERVISOR    ...   \n",
       "220  25990239           INFORMATION TECHNOLOGY INSTRUCTOR    ...   \n",
       "221  16899268           INFORMATION TECHNOLOGY MANAGER/ANALYS...   \n",
       "\n",
       "                   Category  \n",
       "217  INFORMATION-TECHNOLOGY  \n",
       "218  INFORMATION-TECHNOLOGY  \n",
       "219  INFORMATION-TECHNOLOGY  \n",
       "220  INFORMATION-TECHNOLOGY  \n",
       "221  INFORMATION-TECHNOLOGY  "
      ]
     },
     "execution_count": 10,
     "metadata": {},
     "output_type": "execute_result"
    }
   ],
   "source": [
    "tech_resumes = df[df['Category'] == 'INFORMATION-TECHNOLOGY']\n",
    "tech_resumes.head()"
   ]
  },
  {
   "cell_type": "code",
   "execution_count": 17,
   "metadata": {},
   "outputs": [
    {
     "data": {
      "text/html": [
       "<div>\n",
       "<style scoped>\n",
       "    .dataframe tbody tr th:only-of-type {\n",
       "        vertical-align: middle;\n",
       "    }\n",
       "\n",
       "    .dataframe tbody tr th {\n",
       "        vertical-align: top;\n",
       "    }\n",
       "\n",
       "    .dataframe thead th {\n",
       "        text-align: right;\n",
       "    }\n",
       "</style>\n",
       "<table border=\"1\" class=\"dataframe\">\n",
       "  <thead>\n",
       "    <tr style=\"text-align: right;\">\n",
       "      <th></th>\n",
       "      <th>ID</th>\n",
       "      <th>Resume_str</th>\n",
       "    </tr>\n",
       "  </thead>\n",
       "  <tbody>\n",
       "    <tr>\n",
       "      <th>217</th>\n",
       "      <td>36856210</td>\n",
       "      <td>INFORMATION TECHNOLOGY         Summar...</td>\n",
       "    </tr>\n",
       "    <tr>\n",
       "      <th>218</th>\n",
       "      <td>21780877</td>\n",
       "      <td>INFORMATION TECHNOLOGY SPECIALIST\\tGS...</td>\n",
       "    </tr>\n",
       "    <tr>\n",
       "      <th>219</th>\n",
       "      <td>33241454</td>\n",
       "      <td>INFORMATION TECHNOLOGY SUPERVISOR    ...</td>\n",
       "    </tr>\n",
       "    <tr>\n",
       "      <th>220</th>\n",
       "      <td>25990239</td>\n",
       "      <td>INFORMATION TECHNOLOGY INSTRUCTOR    ...</td>\n",
       "    </tr>\n",
       "    <tr>\n",
       "      <th>221</th>\n",
       "      <td>16899268</td>\n",
       "      <td>INFORMATION TECHNOLOGY MANAGER/ANALYS...</td>\n",
       "    </tr>\n",
       "    <tr>\n",
       "      <th>...</th>\n",
       "      <td>...</td>\n",
       "      <td>...</td>\n",
       "    </tr>\n",
       "    <tr>\n",
       "      <th>332</th>\n",
       "      <td>27485716</td>\n",
       "      <td>CORPORATE PROJECT MANAGER       Caree...</td>\n",
       "    </tr>\n",
       "    <tr>\n",
       "      <th>333</th>\n",
       "      <td>26480367</td>\n",
       "      <td>IT TECHNOLOGY SPECIALIST       Profes...</td>\n",
       "    </tr>\n",
       "    <tr>\n",
       "      <th>334</th>\n",
       "      <td>81761658</td>\n",
       "      <td>IT MANAGER             Highlights    ...</td>\n",
       "    </tr>\n",
       "    <tr>\n",
       "      <th>335</th>\n",
       "      <td>79541391</td>\n",
       "      <td>SUBJECT MATTER EXPERT (INFORMATION TE...</td>\n",
       "    </tr>\n",
       "    <tr>\n",
       "      <th>336</th>\n",
       "      <td>23666211</td>\n",
       "      <td>TRAINING MANAGER         Executive Su...</td>\n",
       "    </tr>\n",
       "  </tbody>\n",
       "</table>\n",
       "<p>120 rows × 2 columns</p>\n",
       "</div>"
      ],
      "text/plain": [
       "           ID                                         Resume_str\n",
       "217  36856210           INFORMATION TECHNOLOGY         Summar...\n",
       "218  21780877           INFORMATION TECHNOLOGY SPECIALIST\\tGS...\n",
       "219  33241454           INFORMATION TECHNOLOGY SUPERVISOR    ...\n",
       "220  25990239           INFORMATION TECHNOLOGY INSTRUCTOR    ...\n",
       "221  16899268           INFORMATION TECHNOLOGY MANAGER/ANALYS...\n",
       "..        ...                                                ...\n",
       "332  27485716           CORPORATE PROJECT MANAGER       Caree...\n",
       "333  26480367           IT TECHNOLOGY SPECIALIST       Profes...\n",
       "334  81761658           IT MANAGER             Highlights    ...\n",
       "335  79541391           SUBJECT MATTER EXPERT (INFORMATION TE...\n",
       "336  23666211           TRAINING MANAGER         Executive Su...\n",
       "\n",
       "[120 rows x 2 columns]"
      ]
     },
     "execution_count": 17,
     "metadata": {},
     "output_type": "execute_result"
    }
   ],
   "source": [
    "texts = tech_resumes[['ID', 'Resume_str']]\n",
    "texts"
   ]
  },
  {
   "attachments": {},
   "cell_type": "markdown",
   "metadata": {},
   "source": [
    "## Reading in Keywords"
   ]
  },
  {
   "cell_type": "code",
   "execution_count": 12,
   "metadata": {},
   "outputs": [
    {
     "data": {
      "text/html": [
       "<div>\n",
       "<style scoped>\n",
       "    .dataframe tbody tr th:only-of-type {\n",
       "        vertical-align: middle;\n",
       "    }\n",
       "\n",
       "    .dataframe tbody tr th {\n",
       "        vertical-align: top;\n",
       "    }\n",
       "\n",
       "    .dataframe thead th {\n",
       "        text-align: right;\n",
       "    }\n",
       "</style>\n",
       "<table border=\"1\" class=\"dataframe\">\n",
       "  <thead>\n",
       "    <tr style=\"text-align: right;\">\n",
       "      <th></th>\n",
       "      <th>Statistics</th>\n",
       "      <th>Machine Learning</th>\n",
       "      <th>Deep Learning</th>\n",
       "      <th>R Language</th>\n",
       "      <th>Python Language</th>\n",
       "      <th>NLP</th>\n",
       "      <th>Data Engineering</th>\n",
       "    </tr>\n",
       "  </thead>\n",
       "  <tbody>\n",
       "    <tr>\n",
       "      <th>0</th>\n",
       "      <td>statistical models</td>\n",
       "      <td>linear regression</td>\n",
       "      <td>neural network</td>\n",
       "      <td>r</td>\n",
       "      <td>python</td>\n",
       "      <td>nlp</td>\n",
       "      <td>laws</td>\n",
       "    </tr>\n",
       "    <tr>\n",
       "      <th>1</th>\n",
       "      <td>statistical modeling</td>\n",
       "      <td>logistic regression</td>\n",
       "      <td>keras</td>\n",
       "      <td>ggplot</td>\n",
       "      <td>flask</td>\n",
       "      <td>natural language processing</td>\n",
       "      <td>ec2</td>\n",
       "    </tr>\n",
       "    <tr>\n",
       "      <th>2</th>\n",
       "      <td>probability</td>\n",
       "      <td>K means</td>\n",
       "      <td>theano</td>\n",
       "      <td>shiny</td>\n",
       "      <td>django</td>\n",
       "      <td>topic modeling</td>\n",
       "      <td>amazon redshift</td>\n",
       "    </tr>\n",
       "    <tr>\n",
       "      <th>3</th>\n",
       "      <td>normal distribution</td>\n",
       "      <td>random forest</td>\n",
       "      <td>face detection</td>\n",
       "      <td>cran</td>\n",
       "      <td>pandas</td>\n",
       "      <td>Ida</td>\n",
       "      <td>s3</td>\n",
       "    </tr>\n",
       "    <tr>\n",
       "      <th>4</th>\n",
       "      <td>poisson distribution</td>\n",
       "      <td>xgboost</td>\n",
       "      <td>neural networks</td>\n",
       "      <td>dplyr</td>\n",
       "      <td>numpy</td>\n",
       "      <td>named entity recognition</td>\n",
       "      <td>docker</td>\n",
       "    </tr>\n",
       "  </tbody>\n",
       "</table>\n",
       "</div>"
      ],
      "text/plain": [
       "             Statistics     Machine Learning    Deep Learning R Language  \\\n",
       "0    statistical models    linear regression   neural network          r   \n",
       "1  statistical modeling  logistic regression            keras     ggplot   \n",
       "2           probability              K means           theano      shiny   \n",
       "3   normal distribution        random forest   face detection       cran   \n",
       "4  poisson distribution              xgboost  neural networks      dplyr   \n",
       "\n",
       "  Python Language                          NLP Data Engineering  \n",
       "0          python                          nlp             laws  \n",
       "1           flask  natural language processing              ec2  \n",
       "2          django               topic modeling  amazon redshift  \n",
       "3          pandas                          Ida               s3  \n",
       "4           numpy     named entity recognition           docker  "
      ]
     },
     "execution_count": 12,
     "metadata": {},
     "output_type": "execute_result"
    }
   ],
   "source": [
    "keyword_dict = pd.read_csv('Skills_Keywords.csv')\n",
    "keyword_dict.head()"
   ]
  },
  {
   "attachments": {},
   "cell_type": "markdown",
   "metadata": {},
   "source": [
    "### Creating lists of tokenized keywords for each category for pattern matching"
   ]
  },
  {
   "cell_type": "code",
   "execution_count": 13,
   "metadata": {},
   "outputs": [],
   "source": [
    "stats_words = [nlp(text) for text in keyword_dict['Statistics'].dropna(axis = 0)]\n",
    "nlp_words = [nlp(text) for text in keyword_dict['NLP'].dropna(axis = 0)]\n",
    "ml_words = [nlp(text) for text in keyword_dict['Machine Learning'].dropna(axis = 0)]\n",
    "dl_words = [nlp(text) for text in keyword_dict['Deep Learning'].dropna(axis = 0)]\n",
    "r_words = [nlp(text) for text in keyword_dict['R Language'].dropna(axis = 0)]\n",
    "python_words = [nlp(text) for text in keyword_dict['Python Language'].dropna(axis = 0)]\n",
    "data_eng_words = [nlp(text) for text in keyword_dict['Data Engineering'].dropna(axis = 0)]"
   ]
  },
  {
   "cell_type": "code",
   "execution_count": 14,
   "metadata": {},
   "outputs": [
    {
     "data": {
      "text/plain": [
       "[statistical models,\n",
       " statistical modeling,\n",
       " probability,\n",
       " normal distribution,\n",
       " poisson distribution,\n",
       " survival models,\n",
       " hypothesis testing,\n",
       " bayesian inference,\n",
       " factor analysis,\n",
       " forecasting,\n",
       " markow chain,\n",
       " monte carlo]"
      ]
     },
     "execution_count": 14,
     "metadata": {},
     "output_type": "execute_result"
    }
   ],
   "source": [
    "stats_words"
   ]
  },
  {
   "attachments": {},
   "cell_type": "markdown",
   "metadata": {},
   "source": [
    "### Creating Pattern Matcher for Keyword Extraction"
   ]
  },
  {
   "cell_type": "code",
   "execution_count": 15,
   "metadata": {},
   "outputs": [],
   "source": [
    "matcher = PhraseMatcher(nlp.vocab)"
   ]
  },
  {
   "cell_type": "code",
   "execution_count": 16,
   "metadata": {},
   "outputs": [],
   "source": [
    "matcher.add('Stats', None, *stats_words)\n",
    "matcher.add('NLP', None, *nlp_words)\n",
    "matcher.add('ML', None, *ml_words)\n",
    "matcher.add('DL', None, *dl_words)\n",
    "matcher.add('R', None, *r_words)\n",
    "matcher.add('Python', None, *python_words)\n",
    "matcher.add('Data Engineering', None, *data_eng_words)"
   ]
  },
  {
   "attachments": {},
   "cell_type": "markdown",
   "metadata": {},
   "source": [
    "## Keyword Extraction"
   ]
  },
  {
   "cell_type": "code",
   "execution_count": 23,
   "metadata": {},
   "outputs": [
    {
     "ename": "KeyboardInterrupt",
     "evalue": "",
     "output_type": "error",
     "traceback": [
      "\u001b[1;31m---------------------------------------------------------------------------\u001b[0m",
      "\u001b[1;31mKeyboardInterrupt\u001b[0m                         Traceback (most recent call last)",
      "Cell \u001b[1;32mIn[23], line 4\u001b[0m\n\u001b[0;32m      1\u001b[0m d \u001b[39m=\u001b[39m {}\n\u001b[0;32m      2\u001b[0m \u001b[39mfor\u001b[39;00m id_, text \u001b[39min\u001b[39;00m texts\u001b[39m.\u001b[39mvalues:\n\u001b[0;32m      3\u001b[0m     \u001b[39m# Tokenize the resume\u001b[39;00m\n\u001b[1;32m----> 4\u001b[0m     doc \u001b[39m=\u001b[39m nlp(text)\n\u001b[0;32m      6\u001b[0m     \u001b[39m# Find matches in the doc\u001b[39;00m\n\u001b[0;32m      7\u001b[0m     matches \u001b[39m=\u001b[39m matcher(doc)\n",
      "File \u001b[1;32mc:\\Users\\shash\\Desktop\\GitHub\\NLP\\nlp-j-comp\\nlpenv\\lib\\site-packages\\spacy\\language.py:1011\u001b[0m, in \u001b[0;36mLanguage.__call__\u001b[1;34m(self, text, disable, component_cfg)\u001b[0m\n\u001b[0;32m   1009\u001b[0m     error_handler \u001b[39m=\u001b[39m proc\u001b[39m.\u001b[39mget_error_handler()\n\u001b[0;32m   1010\u001b[0m \u001b[39mtry\u001b[39;00m:\n\u001b[1;32m-> 1011\u001b[0m     doc \u001b[39m=\u001b[39m proc(doc, \u001b[39m*\u001b[39m\u001b[39m*\u001b[39mcomponent_cfg\u001b[39m.\u001b[39mget(name, {}))  \u001b[39m# type: ignore[call-arg]\u001b[39;00m\n\u001b[0;32m   1012\u001b[0m \u001b[39mexcept\u001b[39;00m \u001b[39mKeyError\u001b[39;00m \u001b[39mas\u001b[39;00m e:\n\u001b[0;32m   1013\u001b[0m     \u001b[39m# This typically happens if a component is not initialized\u001b[39;00m\n\u001b[0;32m   1014\u001b[0m     \u001b[39mraise\u001b[39;00m \u001b[39mValueError\u001b[39;00m(Errors\u001b[39m.\u001b[39mE109\u001b[39m.\u001b[39mformat(name\u001b[39m=\u001b[39mname)) \u001b[39mfrom\u001b[39;00m \u001b[39me\u001b[39;00m\n",
      "\u001b[1;31mKeyboardInterrupt\u001b[0m: "
     ]
    }
   ],
   "source": [
    "d = {}\n",
    "for id_, text in texts.values:\n",
    "    # Tokenize the resume\n",
    "    doc = nlp(text)\n",
    "\n",
    "    # Find matches in the doc\n",
    "    matches = matcher(doc)\n",
    "\n",
    "    # For each of the matches\n",
    "    for match_id, start, end in matches:\n",
    "        # Get the general word and the matched phrase\n",
    "        gen_word = nlp.vocab.strings[match_id]\n",
    "        match = doc[start:end]\n",
    "\n",
    "        # Append all the keywords specific to a resume ID\n",
    "        d.setdefault(id_, []).append((gen_word, match.text))"
   ]
  },
  {
   "cell_type": "code",
   "execution_count": 26,
   "metadata": {},
   "outputs": [
    {
     "data": {
      "text/plain": [
       "{19796840: [('Data Engineering', 'laws')],\n",
       " 91697974: [('Data Engineering', 'laws')],\n",
       " 70089206: [('Stats', 'probability')],\n",
       " 52618188: [('Stats', 'forecasting'),\n",
       "  ('Stats', 'forecasting'),\n",
       "  ('Stats', 'forecasting')],\n",
       " 18159866: [('Stats', 'forecasting'), ('Data Engineering', 'laws')],\n",
       " 33381211: [('Stats', 'forecasting'), ('Stats', 'forecasting')]}"
      ]
     },
     "execution_count": 26,
     "metadata": {},
     "output_type": "execute_result"
    }
   ],
   "source": [
    "d"
   ]
  },
  {
   "cell_type": "code",
   "execution_count": null,
   "metadata": {},
   "outputs": [],
   "source": []
  }
 ],
 "metadata": {
  "kernelspec": {
   "display_name": "nlpenv",
   "language": "python",
   "name": "python3"
  },
  "language_info": {
   "codemirror_mode": {
    "name": "ipython",
    "version": 3
   },
   "file_extension": ".py",
   "mimetype": "text/x-python",
   "name": "python",
   "nbconvert_exporter": "python",
   "pygments_lexer": "ipython3",
   "version": "3.9.7"
  },
  "orig_nbformat": 4,
  "vscode": {
   "interpreter": {
    "hash": "bf219ed0de5990c7c5c4c3c35d28d40858b8ff64e5f64f3472cbcdc1175305f7"
   }
  }
 },
 "nbformat": 4,
 "nbformat_minor": 2
}
